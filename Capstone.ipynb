{
 "cells": [
  {
   "cell_type": "markdown",
   "metadata": {},
   "source": [
    "# IBM Data Science Specialization Capstone\n",
    "\n",
    "Write some markdown to explain that this notebook will be mainly used for the capstone project.\n",
    "\n"
   ]
  },
  {
   "cell_type": "code",
   "execution_count": 2,
   "metadata": {},
   "outputs": [
    {
     "name": "stdout",
     "output_type": "stream",
     "text": [
      "Hello Capstone Project Course!\n"
     ]
    }
   ],
   "source": [
    "import pandas as pd\n",
    "import numpy as np\n",
    "print(\"Hello Capstone Project Course!\")"
   ]
  },
  {
   "cell_type": "markdown",
   "metadata": {},
   "source": [
    "### Foursquare API call template"
   ]
  },
  {
   "cell_type": "code",
   "execution_count": 1,
   "metadata": {},
   "outputs": [],
   "source": [
    "import json, requests\n",
    "url = 'https://api.foursquare.com/v2/venues/explore'\n",
    "\n",
    "params = dict(\n",
    "client_id='TDUMTXN0WG4EZFIPJBH5FUG1YXLZCMFQXJTWNEZ2RSJ14W3S',\n",
    "client_secret='1FEIJEA0NXDXAONICQ55E53CPLUUWHQ4FNDWJIP0V1TGO1XU',\n",
    "v='20180323',\n",
    "ll='40.7243,-74.0018',\n",
    "query='coffee',\n",
    "limit=1\n",
    ")\n",
    "resp = requests.get(url=url, params=params)\n",
    "data = json.loads(resp.text)"
   ]
  },
  {
   "cell_type": "code",
   "execution_count": 2,
   "metadata": {},
   "outputs": [
    {
     "data": {
      "text/plain": [
       "{'meta': {'code': 200, 'requestId': '601911194b515236ca9f0161'},\n",
       " 'response': {'suggestedFilters': {'header': 'Tap to show:',\n",
       "   'filters': [{'name': '$-$$$$', 'key': 'price'}]},\n",
       "  'warning': {'text': 'There aren\\'t a lot of results for \"coffee.\" Try something more general, reset your filters, or expand the search area.'},\n",
       "  'suggestedRadius': 600,\n",
       "  'headerLocation': 'SoHo',\n",
       "  'headerFullLocation': 'SoHo, New York',\n",
       "  'headerLocationGranularity': 'neighborhood',\n",
       "  'query': 'coffee',\n",
       "  'totalResults': 60,\n",
       "  'suggestedBounds': {'ne': {'lat': 40.727169470956085,\n",
       "    'lng': -74.00255064150711},\n",
       "   'sw': {'lat': 40.724469811170636, 'lng': -73.99983306744674}},\n",
       "  'groups': [{'type': 'Recommended Places',\n",
       "    'name': 'recommended',\n",
       "    'items': [{'reasons': {'count': 0,\n",
       "       'items': [{'summary': 'This spot is popular',\n",
       "         'type': 'general',\n",
       "         'reasonName': 'globalInteractionReason'}]},\n",
       "      'venue': {'id': '573498df498e6df2eb8b36a7',\n",
       "       'name': 'La Colombe Torrefaction',\n",
       "       'contact': {},\n",
       "       'location': {'address': '154 Prince St',\n",
       "        'crossStreet': 'btwn W Broadway & Thompson',\n",
       "        'lat': 40.72581964106336,\n",
       "        'lng': -74.00119185447693,\n",
       "        'labeledLatLngs': [{'label': 'display',\n",
       "          'lat': 40.72581964106336,\n",
       "          'lng': -74.00119185447693},\n",
       "         {'label': 'entrance', 'lat': 40.72582, 'lng': -74.001153}],\n",
       "        'distance': 176,\n",
       "        'postalCode': '10012',\n",
       "        'cc': 'US',\n",
       "        'city': 'New York',\n",
       "        'state': 'NY',\n",
       "        'country': 'United States',\n",
       "        'formattedAddress': ['154 Prince St (btwn W Broadway & Thompson)',\n",
       "         'New York, NY 10012',\n",
       "         'United States']},\n",
       "       'categories': [{'id': '4bf58dd8d48988d1e0931735',\n",
       "         'name': 'Coffee Shop',\n",
       "         'pluralName': 'Coffee Shops',\n",
       "         'shortName': 'Coffee Shop',\n",
       "         'icon': {'prefix': 'https://ss3.4sqi.net/img/categories_v2/food/coffeeshop_',\n",
       "          'suffix': '.png'},\n",
       "         'primary': True}],\n",
       "       'verified': False,\n",
       "       'stats': {'tipCount': 0,\n",
       "        'usersCount': 0,\n",
       "        'checkinsCount': 0,\n",
       "        'visitsCount': 0},\n",
       "       'delivery': {'id': '2075401',\n",
       "        'url': 'https://www.seamless.com/menu/la-colombe-154-prince-street-new-york/2075401?affiliate=1131&utm_source=foursquare-affiliate-network&utm_medium=affiliate&utm_campaign=1131&utm_content=2075401',\n",
       "        'provider': {'name': 'seamless',\n",
       "         'icon': {'prefix': 'https://fastly.4sqi.net/img/general/cap/',\n",
       "          'sizes': [40, 50],\n",
       "          'name': '/delivery_provider_seamless_20180129.png'}}},\n",
       "       'beenHere': {'count': 0,\n",
       "        'lastCheckinExpiredAt': 0,\n",
       "        'marked': False,\n",
       "        'unconfirmedCount': 0},\n",
       "       'photos': {'count': 0, 'groups': []},\n",
       "       'hereNow': {'count': 0, 'summary': 'Nobody here', 'groups': []}},\n",
       "      'referralId': 'e-0-573498df498e6df2eb8b36a7-0'}]}]}}"
      ]
     },
     "execution_count": 2,
     "metadata": {},
     "output_type": "execute_result"
    }
   ],
   "source": [
    "data"
   ]
  },
  {
   "cell_type": "code",
   "execution_count": null,
   "metadata": {},
   "outputs": [],
   "source": []
  }
 ],
 "metadata": {
  "kernelspec": {
   "display_name": "Python 3",
   "language": "python",
   "name": "python3"
  },
  "language_info": {
   "codemirror_mode": {
    "name": "ipython",
    "version": 3
   },
   "file_extension": ".py",
   "mimetype": "text/x-python",
   "name": "python",
   "nbconvert_exporter": "python",
   "pygments_lexer": "ipython3",
   "version": "3.7.6"
  }
 },
 "nbformat": 4,
 "nbformat_minor": 4
}
